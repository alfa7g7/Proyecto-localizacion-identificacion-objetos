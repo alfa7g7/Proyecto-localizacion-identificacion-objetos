version https://git-lfs.github.com/spec/v1
oid sha256:52e44a2b7932126372e4d51ee24d766277e4136b10b903866a70e727f5fe3150
size 40971106
