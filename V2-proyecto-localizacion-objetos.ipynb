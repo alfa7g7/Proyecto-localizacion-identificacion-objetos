version https://git-lfs.github.com/spec/v1
oid sha256:bc6eb9044f0b29d21e4f6060ab948b5671ffb982fc68a206e2bfd55c04e07778
size 69125215
